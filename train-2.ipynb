{
 "cells": [
  {
   "cell_type": "code",
   "execution_count": 1,
   "id": "045c0af4",
   "metadata": {},
   "outputs": [],
   "source": [
    "import hashlib\n",
    "import json\n",
    "import jsonlines\n",
    "import openai\n",
    "import os\n",
    "import unicodedata\n",
    "import random\n",
    "import spacy\n",
    "\n",
    "from collections import Counter, defaultdict\n",
    "from dotenv import load_dotenv\n",
    "\n",
    "load_dotenv()\n",
    "nlp = spacy.load('en_core_web_sm')\n",
    "openai.api_key = os.environ['OPENAI_API_KEY']"
   ]
  },
  {
   "cell_type": "code",
   "execution_count": 2,
   "id": "f01b961f",
   "metadata": {},
   "outputs": [],
   "source": [
    "%load_ext blackcellmagic"
   ]
  },
  {
   "cell_type": "code",
   "execution_count": 3,
   "id": "ec858c57",
   "metadata": {},
   "outputs": [
    {
     "data": {
      "text/plain": [
       "[{'host': 'Leno',\n",
       "  'date': '2009-12-03',\n",
       "  'source': 12,\n",
       "  'joke': 'Twenty-eight years old! That shows you how quickly things can change. Britney is now back on top of her game and Tiger Woods is in the tabloids for crashing his car. Who could have seen . . .'},\n",
       " {'host': 'Leno',\n",
       "  'date': '2009-12-03',\n",
       "  'source': 12,\n",
       "  'joke': 'President Obama and the Democratic majority in congress are now assembling a new jobs package. The area with the most job openings: White House security. A lot of jobs there.'},\n",
       " {'host': 'Leno',\n",
       "  'date': '2009-12-03',\n",
       "  'source': 12,\n",
       "  'joke': 'How is this for nerve? That White House party crashing couple, the Salahis . . . They refused an invitation to testify before Congress today. They refused. Isn’t that unbelievable? The one thing they actually get invited to and they don’t show up.'},\n",
       " {'host': 'Leno',\n",
       "  'date': '2009-12-03',\n",
       "  'source': 12,\n",
       "  'joke': 'This week, America’s last living World War I veteran, a man named Frank Buckles, 108 years old, said he’d like to see a memorial in D.C. . . You know, when he gets back from Afghanistan.'},\n",
       " {'host': 'Conan',\n",
       "  'date': '2009-12-03',\n",
       "  'source': 12,\n",
       "  'joke': 'It’s been reported that President Obama’s speech on Tuesday about Afghanistan helped give NBC its best ratings in a long time. So look out this spring for NBC’s new shows: “Afghanistan’s Got Talent,” “Law & Order: Kabul,” and “The Tonight Show with Hamid O’Karzai.”'}]"
      ]
     },
     "execution_count": 3,
     "metadata": {},
     "output_type": "execute_result"
    }
   ],
   "source": [
    "with open('./data/raw/jokes-all-hosts.json') as f:\n",
    "    data_all = json.load(f)\n",
    "    \n",
    "data_all[:5]"
   ]
  },
  {
   "cell_type": "code",
   "execution_count": 4,
   "id": "c119de8b",
   "metadata": {},
   "outputs": [
    {
     "data": {
      "text/plain": [
       "defaultdict(int,\n",
       "            {'Leno': 3354,\n",
       "             'Conan': 4800,\n",
       "             'Ferguson': 3342,\n",
       "             'Kimmel': 4735,\n",
       "             'Fallon': 6318,\n",
       "             'Letterman': 3753,\n",
       "             'Meyers': 2549,\n",
       "             'Corden': 1703,\n",
       "             'Colbert': 975})"
      ]
     },
     "execution_count": 4,
     "metadata": {},
     "output_type": "execute_result"
    }
   ],
   "source": [
    "counts = defaultdict(int)\n",
    "for joke in data_all:\n",
    "    counts[joke['host']] += 1\n",
    "\n",
    "counts"
   ]
  },
  {
   "cell_type": "code",
   "execution_count": 5,
   "id": "7941046f",
   "metadata": {},
   "outputs": [
    {
     "name": "stdout",
     "output_type": "stream",
     "text": [
      "total: 2549\n",
      "\n",
      "Chelsea Clinton has announced that she is pregnant with her first child. The baby is expected to crawl after nine months and run in 2055.\n",
      "\n",
      "This weekend over 37,000 people went to Denver to participate in the 4th annual Cannabis Cup. And they all made memories that would last a few minutes.\n",
      "\n",
      "Last week, NBA Commissioner Adam Silver announced that he wants to raise the league’s age minimum from 19 to 20. The league’s age maximum will continue to be Kevin Garnett.\n",
      "\n",
      "Today is Earth Day. At least according to the guy who saw me throw a banana peel in the blue trash can.\n",
      "\n",
      "The Christian Science Monitor is claiming “Hillary Clinton will be a tad less interested in running for president now that she’s about to be a grandmother.” And if you put a grain of sand in your pocket there’s a tad less sand on the beach.\n"
     ]
    }
   ],
   "source": [
    "HOSTS = ['Meyers']\n",
    "\n",
    "jokes_filtered = [j[\"joke\"] for j in data_all if j[\"host\"] in HOSTS]\n",
    "\n",
    "print('total: {}\\n'.format(len(jokes_filtered)))\n",
    "print('\\n\\n'.join(jokes_filtered[:5]))"
   ]
  },
  {
   "cell_type": "code",
   "execution_count": 6,
   "id": "eb165636",
   "metadata": {},
   "outputs": [
    {
     "data": {
      "text/plain": [
       "{'tags': [{'tags': '',\n",
       "   'hrefTag': 'misc',\n",
       "   'status': 1,\n",
       "   'slug': 'jokes/misc',\n",
       "   'tid': 7402,\n",
       "   'data': None,\n",
       "   'type': {'name': 'jokes', 'id': 6, 'title': 'Jokes category'},\n",
       "   'name': 'Misc',\n",
       "   'description': '',\n",
       "   'content': 0},\n",
       "  {'tags': '',\n",
       "   'hrefTag': 'conan',\n",
       "   'status': 1,\n",
       "   'slug': 'category/tags/conan',\n",
       "   'tid': 24,\n",
       "   'data': None,\n",
       "   'type': {'name': 'tags', 'id': 2, 'title': 'Tags'},\n",
       "   'name': 'CONAN',\n",
       "   'description': '',\n",
       "   'content': 8}],\n",
       " 'id': 64106,\n",
       " 'thumbWithText': 'http://cdn.teamcococdn.com/jokes/64106/1,1/650/jokes/nov-8-2010-yes-i-know-what-you-guys-are-thinking-hey-its-the-guy.jpg',\n",
       " 'slug': 'jokes/nov-8-2010-yes-i-know-what-you-guys-are-thinking-hey-its-the-guy',\n",
       " 'body': 'Yes, I know what you guys are thinking, \"Hey, it\\'s the guy from Twitter.\"',\n",
       " 'title': 'Nov 8, 2010 - Yes, I know what you guys are thinking, \"Hey, it\\'s the guy',\n",
       " 'credit-date': 'November 08, 2010',\n",
       " 'hier1': '',\n",
       " 'thumb': 'http://cdn.teamcococdn.com/image/650x650,frame:1/monologue-s1-129a14632c247dad6cdc2dea033d482e.jpg',\n",
       " 'tag': 'main',\n",
       " 'credit-name': \"Conan O'Brien\"}"
      ]
     },
     "execution_count": 6,
     "metadata": {},
     "output_type": "execute_result"
    }
   ],
   "source": [
    "with open('./data/raw/jokes-coco.json') as f:\n",
    "    data_conan = json.load(f)\n",
    "\n",
    "data_conan[0]"
   ]
  },
  {
   "cell_type": "code",
   "execution_count": 7,
   "id": "e4c427f6",
   "metadata": {},
   "outputs": [
    {
     "name": "stdout",
     "output_type": "stream",
     "text": [
      "total: 10041\n",
      "\n",
      "Yes, I know what you guys are thinking, \"Hey, it's the guy from Twitter.\"\n",
      "\n",
      "I'm glad to be on cable. The truth is, I've dreamed of being a talk show host on basic cable ever since I was 46.\n",
      "\n",
      "I'm happy to report that we're already #1 in TBS's key demographic—people who can't afford HBO.\n",
      "\n",
      "It's not easy doing a late-night show on a channel without a lot of money and that viewers have trouble finding. So that's why I left NBC.\n",
      "\n",
      "That's right—the whitest man in show business is back…on the second blackest channel on TV.\n"
     ]
    }
   ],
   "source": [
    "EXCLUDE_IDS = set([88572, 99457, 99483]) # dupes\n",
    "\n",
    "jokes_conan = [d['body'] for d in data_conan if d['id'] not in EXCLUDE_IDS]\n",
    "\n",
    "print('total: {}\\n'.format(len(jokes_conan)))\n",
    "print('\\n\\n'.join(jokes_conan[:5]))"
   ]
  },
  {
   "cell_type": "code",
   "execution_count": 8,
   "id": "20d247f3",
   "metadata": {},
   "outputs": [],
   "source": [
    "# jokes = [*jokes_conan, *jokes_filtered]\n",
    "jokes = jokes_conan\n",
    "random.shuffle(jokes)"
   ]
  },
  {
   "cell_type": "code",
   "execution_count": 9,
   "id": "d1a1e10b",
   "metadata": {},
   "outputs": [
    {
     "name": "stdout",
     "output_type": "stream",
     "text": [
      "defaultdict(<class 'int'>, {2: 8783, 3: 347, 1: 844, 4: 20, 5: 6, 7: 1})\n"
     ]
    }
   ],
   "source": [
    "counts = defaultdict(int)\n",
    "jokes_cleaned = []\n",
    "\n",
    "for joke in jokes:\n",
    "    if \"Conan\" in joke:\n",
    "        continue\n",
    "        \n",
    "    joke_clean = (\n",
    "        unicodedata.normalize(\"NFKD\", joke)\n",
    "        .replace(\"  \", \" \")\n",
    "        .replace(\"—\", \"--\")\n",
    "        .strip()\n",
    "    )\n",
    "\n",
    "    tokens = nlp(joke_clean)\n",
    "    sentences = [sent.text for sent in tokens.sents]\n",
    "    sentence_ct = len(sentences)\n",
    "\n",
    "    entry = {\"text\": joke_clean, \"sentences\": sentences, \"sentence_ct\": sentence_ct}\n",
    "    jokes_cleaned.append(entry)\n",
    "    counts[sentence_ct] += 1\n",
    "\n",
    "print(counts)"
   ]
  },
  {
   "cell_type": "code",
   "execution_count": 10,
   "id": "76309773",
   "metadata": {
    "scrolled": false
   },
   "outputs": [
    {
     "name": "stdout",
     "output_type": "stream",
     "text": [
      "Over the weekend, President Trump was in Mississippi speaking at the Civil Rights Museum, and he called civil rights \"big, big stuff.\" To be fair, Trump was just paraphrasing Dr. King’s famous speech, \"I Have A Thing.\"\n",
      "\n",
      "Whole Foods has started selling rabbit meat? That’s great, I was looking for a place to buy way-too-expensive rabbit meat.\n",
      "\n",
      "Google has banned a porn app for Google Glass. A Google spokesman said, “We’re a principled company, so if you want to look at smut and filth, you’ll just have to use our website.”\n",
      "\n",
      "A doctor is being accused of illegal lion hunting in Zimbabwe. Here’s my question: whatever happened to golf?\n",
      "\n",
      "After his speech, President Obama surprised Clinton by walking on stage and giving him a hug. Out of habit, when Bill Clinton saw a woman's husband coming at him he threw his shoe and hit in a closet.\n"
     ]
    }
   ],
   "source": [
    "# sample jokes with given num of sentences\n",
    "sentence_ct = 2\n",
    "filtered = [j[\"text\"] for j in jokes_cleaned if j[\"sentence_ct\"] == sentence_ct]\n",
    "\n",
    "print(\"\\n\\n\".join(random.sample(filtered, 5)))"
   ]
  },
  {
   "cell_type": "code",
   "execution_count": 11,
   "id": "793ee7f1",
   "metadata": {},
   "outputs": [],
   "source": [
    "i, MAX_ENTRIES = 0, 5000\n",
    "SYSTEM_PROMPT = \"You are a creative and hilarious comedy writer that loves to craft jokes\"\n",
    "\n",
    "fname = \"./data/training-latest.jsonl\"\n",
    "seen = set()\n",
    "\n",
    "# format and output training data\n",
    "with jsonlines.open(fname, mode=\"w\") as f:\n",
    "    for joke in jokes_cleaned:\n",
    "        # don't use single sentence or really long jokes\n",
    "        ct = joke[\"sentence_ct\"]\n",
    "        if ct < 2 or ct > 4:\n",
    "            continue\n",
    "        \n",
    "        i += 1\n",
    "        if i > MAX_ENTRIES:\n",
    "            break\n",
    "        \n",
    "        setup = joke[\"sentences\"][0]\n",
    "        punchline = \" \".join(joke[\"sentences\"][1:])\n",
    "        \n",
    "        hash_id = hashlib.shake_128(punchline.encode()).hexdigest(4)\n",
    "        if hash_id in seen:\n",
    "            continue\n",
    "\n",
    "        seen.add(hash_id)\n",
    "        f.write({\n",
    "            \"messages\": [\n",
    "                { \"role\": \"system\", \"content\": SYSTEM_PROMPT },\n",
    "                { \"role\": \"user\", \"content\": setup },\n",
    "                { \"role\": \"assistant\", \"content\": punchline }\n",
    "            ]\n",
    "        })"
   ]
  },
  {
   "cell_type": "code",
   "execution_count": null,
   "id": "a34daf16",
   "metadata": {
    "scrolled": true
   },
   "outputs": [],
   "source": [
    "openai.File.create(\n",
    "  file=open(\"./data/training-latest.jsonl\", \"rb\"),\n",
    "  purpose='fine-tune'\n",
    ")"
   ]
  },
  {
   "cell_type": "code",
   "execution_count": null,
   "id": "265f6d98",
   "metadata": {},
   "outputs": [],
   "source": [
    "TRAINING_FILE = 'FILL_IN'\n",
    "\n",
    "openai.FineTuningJob.create(training_file=TRAINING_FILE, model=\"gpt-3.5-turbo\")"
   ]
  },
  {
   "cell_type": "code",
   "execution_count": null,
   "id": "8742b3ee",
   "metadata": {},
   "outputs": [],
   "source": [
    "JOB_ID = 'FILL_IN'\n",
    "\n",
    "openai.FineTuningJob.retrieve(JOB_ID)"
   ]
  },
  {
   "cell_type": "code",
   "execution_count": 43,
   "id": "24ccddc6",
   "metadata": {},
   "outputs": [
    {
     "name": "stdout",
     "output_type": "stream",
     "text": [
      "ORIGINAL JOKE:\n",
      "Everyone’s OK, but a rapper has been arrested for allegedly stabbing an NFL player. The rapper is being charged with “impersonating an NFL player.”\n",
      "\n",
      "PROMPT:\n",
      "Everyone’s OK, but a rapper has been arrested for allegedly stabbing an NFL player.\n",
      "MODEL RESPONSE:\n",
      "\n",
      "1: The rapper is being charged with \"keeping it too real.\"\n",
      "\n",
      "2: The rapper is facing charges of assault and being a rapper.\n",
      "\n",
      "3: The rapper is being charged with \"being a rapper.\"\n"
     ]
    }
   ],
   "source": [
    "MODEL_ID = 'FILL_IN'\n",
    "\n",
    "test_entry = random.choice(jokes_cleaned)\n",
    "print(\"ORIGINAL JOKE:\\n{}\\n\".format(test_entry[\"text\"]))\n",
    "\n",
    "prompt = test_entry[\"sentences\"][0]\n",
    "print(\"PROMPT:\\n{}\".format(prompt))\n",
    "\n",
    "messages = [\n",
    "    {\"role\": \"system\", \"content\": SYSTEM_PROMPT},\n",
    "    {\"role\": \"user\", \"content\": prompt},\n",
    "]\n",
    "\n",
    "response = openai.ChatCompletion.create(\n",
    "    model=MODEL_ID,\n",
    "    messages=messages,\n",
    "    max_tokens=150,\n",
    "    temperature=0.5,\n",
    "    n=3,\n",
    ")\n",
    "\n",
    "print(\"MODEL RESPONSE:\\n\")\n",
    "print(\n",
    "    \"\\n\\n\".join(\n",
    "        [\n",
    "            \"{}: {}\".format(i + 1, choice.message[\"content\"])\n",
    "            for i, choice in enumerate(response[\"choices\"])\n",
    "        ]\n",
    "    )\n",
    ")"
   ]
  }
 ],
 "metadata": {
  "kernelspec": {
   "display_name": "Python 3 (ipykernel)",
   "language": "python",
   "name": "python3"
  },
  "language_info": {
   "codemirror_mode": {
    "name": "ipython",
    "version": 3
   },
   "file_extension": ".py",
   "mimetype": "text/x-python",
   "name": "python",
   "nbconvert_exporter": "python",
   "pygments_lexer": "ipython3",
   "version": "3.10.9"
  }
 },
 "nbformat": 4,
 "nbformat_minor": 5
}
