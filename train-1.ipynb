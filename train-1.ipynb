{
 "cells": [
  {
   "cell_type": "code",
   "execution_count": 1,
   "id": "045c0af4",
   "metadata": {},
   "outputs": [],
   "source": [
    "import json\n",
    "import jsonlines\n",
    "import openai\n",
    "import os\n",
    "import unicodedata\n",
    "import random\n",
    "import spacy\n",
    "\n",
    "from collections import Counter, defaultdict\n",
    "from dotenv import load_dotenv\n",
    "\n",
    "load_dotenv()\n",
    "nlp = spacy.load('en_core_web_sm')\n",
    "openai.api_key = os.environ['OPENAI_API_KEY']"
   ]
  },
  {
   "cell_type": "code",
   "execution_count": 2,
   "id": "f01b961f",
   "metadata": {},
   "outputs": [],
   "source": [
    "%load_ext blackcellmagic"
   ]
  },
  {
   "cell_type": "code",
   "execution_count": 3,
   "id": "ec858c57",
   "metadata": {},
   "outputs": [],
   "source": [
    "with open('./data/jokes.json') as f:\n",
    "    data = json.load(f)"
   ]
  },
  {
   "cell_type": "code",
   "execution_count": 4,
   "id": "e4c427f6",
   "metadata": {},
   "outputs": [
    {
     "name": "stdout",
     "output_type": "stream",
     "text": [
      "Yes, I know what you guys are thinking, \"Hey, it's the guy from Twitter.\"\n",
      "\n",
      "I'm glad to be on cable. The truth is, I've dreamed of being a talk show host on basic cable ever since I was 46.\n",
      "\n",
      "I'm happy to report that we're already #1 in TBS's key demographic—people who can't afford HBO.\n",
      "\n",
      "It's not easy doing a late-night show on a channel without a lot of money and that viewers have trouble finding. So that's why I left NBC.\n",
      "\n",
      "That's right—the whitest man in show business is back…on the second blackest channel on TV.\n"
     ]
    }
   ],
   "source": [
    "EXCLUDE_IDS = set([88572, 99457, 99483]) # dupes\n",
    "\n",
    "jokes = [d['body'] for d in data if d['id'] not in EXCLUDE_IDS]\n",
    "\n",
    "print('\\n\\n'.join(jokes[:5]))"
   ]
  },
  {
   "cell_type": "code",
   "execution_count": 5,
   "id": "d1a1e10b",
   "metadata": {},
   "outputs": [
    {
     "name": "stdout",
     "output_type": "stream",
     "text": [
      "defaultdict(<class 'int'>, {1: 844, 2: 8783, 3: 347, 4: 20, 7: 1, 5: 6})\n"
     ]
    }
   ],
   "source": [
    "counts = defaultdict(int)\n",
    "jokes_cleaned = []\n",
    "\n",
    "for joke in jokes:\n",
    "    if \"Conan\" in joke:\n",
    "        continue\n",
    "        \n",
    "    joke_clean = (\n",
    "        unicodedata.normalize(\"NFKD\", joke)\n",
    "        .replace(\"  \", \" \")\n",
    "        .replace(\"—\", \"--\")\n",
    "        .strip()\n",
    "    )\n",
    "\n",
    "    tokens = nlp(joke_clean)\n",
    "    sentences = [sent.text for sent in tokens.sents]\n",
    "    sentence_ct = len(sentences)\n",
    "\n",
    "    entry = {\"text\": joke_clean, \"sentences\": sentences, \"sentence_ct\": sentence_ct}\n",
    "    jokes_cleaned.append(entry)\n",
    "    counts[sentence_ct] += 1\n",
    "\n",
    "print(counts)"
   ]
  },
  {
   "cell_type": "code",
   "execution_count": 6,
   "id": "76309773",
   "metadata": {
    "scrolled": false
   },
   "outputs": [
    {
     "name": "stdout",
     "output_type": "stream",
     "text": [
      "My favorite new song is either that one from the Samsung commercial, or the one from the Budweiser commercial.\n",
      "\n",
      "I don’t take my career for granted, which is why every April I renew my commercial crab fisherman’s license.\n",
      "\n",
      "I’ve won Fantasy Football by never ever playing it.\n",
      "\n",
      "In line to visit Santa Claus, and the kid ahead of us just told Santa he only wants one thing for Christmas: \"the goddamn truth.\"\n",
      "\n",
      "Turns out the proper response to \"How’s it hanging?\" is NOT \"via a complex network of pulleys and trusses.\"\n"
     ]
    }
   ],
   "source": [
    "# sample jokes with given num of sentences\n",
    "sentence_ct = 1\n",
    "filtered = [j[\"text\"] for j in jokes_cleaned if j[\"sentence_ct\"] == sentence_ct]\n",
    "\n",
    "print(\"\\n\\n\".join(random.sample(filtered, 5)))"
   ]
  },
  {
   "cell_type": "code",
   "execution_count": 8,
   "id": "793ee7f1",
   "metadata": {},
   "outputs": [],
   "source": [
    "i, MAX_ENTRIES = 0, 9000\n",
    "fname = \"./data/training.jsonl\"\n",
    "\n",
    "# format and output training data\n",
    "with jsonlines.open(fname, mode=\"w\") as f:\n",
    "    for joke in jokes_cleaned:\n",
    "        # don't use single sentence jokes\n",
    "        if joke[\"sentence_ct\"] < 2:\n",
    "            continue\n",
    "        \n",
    "        i += 1\n",
    "        if i > MAX_ENTRIES:\n",
    "            break\n",
    "\n",
    "        prompt = \"{}\\n\\n###\\n\\n\".format(joke[\"sentences\"][0])\n",
    "        completion = \" {} END\".format(\" \".join(joke[\"sentences\"][1:]))\n",
    "\n",
    "        f.write({\"prompt\": prompt, \"completion\": completion})"
   ]
  },
  {
   "cell_type": "code",
   "execution_count": 9,
   "id": "712c6fc3",
   "metadata": {},
   "outputs": [
    {
     "name": "stdout",
     "output_type": "stream",
     "text": [
      "Analyzing...\n",
      "\n",
      "- Your file contains 9000 prompt-completion pairs\n",
      "- All prompts end with suffix `\\n\\n###\\n\\n`\n",
      "- All completions end with suffix ` END`\n",
      "\n",
      "No remediations found.\n",
      "\n",
      "You can use your file for fine-tuning:\n",
      "> openai api fine_tunes.create -t \"./data/training.jsonl\"\n",
      "\n",
      "After you’ve fine-tuned a model, remember that your prompt has to end with the indicator string `\\n\\n###\\n\\n` for the model to start generating completions, rather than continuing with the prompt. Make sure to include `stop=[\" END\"]` so that the generated texts ends at the expected place.\n",
      "Once your model starts training, it'll approximately take 2.1 hours to train a `curie` model, and less for `ada` and `babbage`. Queue will approximately take half an hour per job ahead of you.\n"
     ]
    }
   ],
   "source": [
    "!openai tools fine_tunes.prepare_data -f \"./data/training.jsonl\""
   ]
  },
  {
   "cell_type": "code",
   "execution_count": null,
   "id": "55d46e86",
   "metadata": {},
   "outputs": [],
   "source": [
    "# kick off fine-tuning\n",
    "!openai api fine_tunes.create \\\n",
    "  -t \"./data/training.jsonl\" \\\n",
    "  -m curie \\\n",
    "  --suffix \"conan\" \\\n",
    "  --n_epochs 2 \\\n",
    "  --learning_rate_multiplier 0.1"
   ]
  },
  {
   "cell_type": "code",
   "execution_count": null,
   "id": "6b29a4bc",
   "metadata": {},
   "outputs": [],
   "source": [
    "!openai api fine_tunes.list"
   ]
  },
  {
   "cell_type": "code",
   "execution_count": null,
   "id": "8aeca144",
   "metadata": {},
   "outputs": [],
   "source": [
    "!openai api fine_tunes.get -i TODO_ID"
   ]
  },
  {
   "cell_type": "code",
   "execution_count": 28,
   "id": "24ccddc6",
   "metadata": {},
   "outputs": [
    {
     "name": "stdout",
     "output_type": "stream",
     "text": [
      "ORIGINAL JOKE:\n",
      "During a TV special magician David Blaine performed magic for Kanye West. Blaine performed an amazing trick where he got Kanye to not talk about Kanye for eight seconds.\n",
      "\n",
      "PROMPT:\n",
      "During a TV special magician David Blaine performed magic for Kanye West.\n",
      "\n",
      "###\n",
      "\n",
      "\n",
      "MODEL RESPONSE:\n",
      "\n",
      "1:  Afterwards, Kanye said, \"I'm not sure what just happened, but I'm pretty sure I'm a genius.\"\n",
      "\n",
      "2:  Apparently, Blaine made Kanye believe that he was a man who can stay dry for more than an hour.\n",
      "\n",
      "3:  Afterwards, Kanye said, \"I'm not impressed with your magic and I'm not impressed with your face.\"\n"
     ]
    }
   ],
   "source": [
    "test_entry = random.choice(jokes_cleaned)\n",
    "print(\"ORIGINAL JOKE:\\n{}\\n\".format(test_entry[\"text\"]))\n",
    "\n",
    "prompt = \"{}\\n\\n###\\n\\n\".format(test_entry[\"sentences\"][0])\n",
    "print(\"PROMPT:\\n{}\".format(prompt))\n",
    "\n",
    "results = openai.Completion.create(\n",
    "    model=os.environ[\"OPENAI_MODEL\"],\n",
    "    prompt=prompt,\n",
    "    max_tokens=100,\n",
    "    temperature=0.5,\n",
    "    n=3,\n",
    "    stop=[\" END\"],\n",
    ")\n",
    "print(\"MODEL RESPONSE:\\n\")\n",
    "print(\n",
    "    \"\\n\\n\".join(\n",
    "        [\n",
    "            \"{}: {}\".format(i + 1, r[\"text\"])\n",
    "            for i, r in enumerate(results[\"choices\"])\n",
    "        ]\n",
    "    )\n",
    ")"
   ]
  }
 ],
 "metadata": {
  "kernelspec": {
   "display_name": "Python 3 (ipykernel)",
   "language": "python",
   "name": "python3"
  },
  "language_info": {
   "codemirror_mode": {
    "name": "ipython",
    "version": 3
   },
   "file_extension": ".py",
   "mimetype": "text/x-python",
   "name": "python",
   "nbconvert_exporter": "python",
   "pygments_lexer": "ipython3",
   "version": "3.10.9"
  }
 },
 "nbformat": 4,
 "nbformat_minor": 5
}
